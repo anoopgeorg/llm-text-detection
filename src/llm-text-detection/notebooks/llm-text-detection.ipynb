{
 "cells": [
  {
   "cell_type": "code",
   "execution_count": 1,
   "id": "e1959ce1",
   "metadata": {
    "_cell_guid": "b1076dfc-b9ad-4769-8c92-a6c4dae69d19",
    "_uuid": "8f2839f25d086af736a60e9eeb907d3b93b6e0e5",
    "execution": {
     "iopub.execute_input": "2023-12-19T04:32:36.353632Z",
     "iopub.status.busy": "2023-12-19T04:32:36.353267Z",
     "iopub.status.idle": "2023-12-19T04:32:36.375962Z",
     "shell.execute_reply": "2023-12-19T04:32:36.374943Z"
    },
    "papermill": {
     "duration": 0.038366,
     "end_time": "2023-12-19T04:32:36.378173",
     "exception": false,
     "start_time": "2023-12-19T04:32:36.339807",
     "status": "completed"
    },
    "tags": []
   },
   "outputs": [
    {
     "name": "stdout",
     "output_type": "stream",
     "text": [
      "/kaggle/input/daigt-proper-train-dataset/train_drcat_03.csv\n",
      "/kaggle/input/daigt-proper-train-dataset/train_drcat_02.csv\n",
      "/kaggle/input/daigt-proper-train-dataset/train_drcat_04.csv\n",
      "/kaggle/input/daigt-proper-train-dataset/train_drcat_01.csv\n",
      "/kaggle/input/daigt-v2-train-dataset/train_v2_drcat_02.csv\n",
      "/kaggle/input/llm-detect-ai-generated-text/sample_submission.csv\n",
      "/kaggle/input/llm-detect-ai-generated-text/train_prompts.csv\n",
      "/kaggle/input/llm-detect-ai-generated-text/test_essays.csv\n",
      "/kaggle/input/llm-detect-ai-generated-text/train_essays.csv\n"
     ]
    }
   ],
   "source": [
    "# This Python 3 environment comes with many helpful analytics libraries installed\n",
    "# It is defined by the kaggle/python Docker image: https://github.com/kaggle/docker-python\n",
    "# For example, here's several helpful packages to load\n",
    "\n",
    "# import numpy as np # linear algebra\n",
    "# import pandas as pd # data processing, CSV file I/O (e.g. pd.read_csv)\n",
    "\n",
    "# Input data files are available in the read-only \"../input/\" directory\n",
    "# For example, running this (by clicking run or pressing Shift+Enter) will list all files under the input directory\n",
    "\n",
    "import os\n",
    "for dirname, _, filenames in os.walk('/kaggle/input'):\n",
    "    for filename in filenames:\n",
    "        print(os.path.join(dirname, filename))\n",
    "\n",
    "# You can write up to 20GB to the current directory (/kaggle/working/) that gets preserved as output when you create a version using \"Save & Run All\" \n",
    "# You can also write temporary files to /kaggle/temp/, but they won't be saved outside of the current session"
   ]
  },
  {
   "cell_type": "code",
   "execution_count": 2,
   "id": "2467c8db",
   "metadata": {
    "execution": {
     "iopub.execute_input": "2023-12-19T04:32:36.403261Z",
     "iopub.status.busy": "2023-12-19T04:32:36.402891Z",
     "iopub.status.idle": "2023-12-19T04:32:57.854504Z",
     "shell.execute_reply": "2023-12-19T04:32:57.853396Z"
    },
    "papermill": {
     "duration": 21.466884,
     "end_time": "2023-12-19T04:32:57.856925",
     "exception": false,
     "start_time": "2023-12-19T04:32:36.390041",
     "status": "completed"
    },
    "tags": []
   },
   "outputs": [
    {
     "name": "stderr",
     "output_type": "stream",
     "text": [
      "/opt/conda/lib/python3.10/site-packages/scipy/__init__.py:146: UserWarning: A NumPy version >=1.16.5 and <1.23.0 is required for this version of SciPy (detected version 1.24.3\n",
      "  warnings.warn(f\"A NumPy version >={np_minversion} and <{np_maxversion}\"\n"
     ]
    }
   ],
   "source": [
    "import pandas as pd\n",
    "import numpy as np\n",
    "import nltk\n",
    "import spacy\n",
    "import re\n",
    "from keras.layers import Dense,LSTM,TextVectorization,Embedding,BatchNormalization,Input,Conv1D,MaxPool1D,Flatten,Dropout\n",
    "from keras.models import Sequential,Model\n",
    "from keras.optimizers import Adam\n",
    "from keras.losses import binary_crossentropy\n",
    "from keras.metrics import AUC\n",
    "import seaborn as sns\n",
    "import matplotlib.pyplot as plt\n",
    "import matplotlib as mpl\n",
    "from sklearn.model_selection import StratifiedKFold\n",
    "import tensorflow as tf\n",
    "from functools import partial\n",
    "from xgboost import XGBClassifier\n",
    "from sklearn.ensemble import RandomForestClassifier,AdaBoostClassifier\n",
    "from sklearn.svm import SVC\n",
    "from sklearn.linear_model import LogisticRegression\n",
    "from sklearn.metrics import roc_auc_score,confusion_matrix,classification_report\n",
    "from tensorflow.keras.preprocessing import sequence,text\n",
    "from pathlib import Path\n",
    "plt.style.use(\"ggplot\")\n",
    "cmap = mpl.colormaps['coolwarm']"
   ]
  },
  {
   "cell_type": "code",
   "execution_count": 3,
   "id": "66858942",
   "metadata": {
    "execution": {
     "iopub.execute_input": "2023-12-19T04:32:57.883678Z",
     "iopub.status.busy": "2023-12-19T04:32:57.882072Z",
     "iopub.status.idle": "2023-12-19T04:32:57.889036Z",
     "shell.execute_reply": "2023-12-19T04:32:57.888240Z"
    },
    "papermill": {
     "duration": 0.02212,
     "end_time": "2023-12-19T04:32:57.891050",
     "exception": false,
     "start_time": "2023-12-19T04:32:57.868930",
     "status": "completed"
    },
    "tags": []
   },
   "outputs": [],
   "source": [
    "def getDevice():\n",
    "    gpus = tf.config.list_logical_devices('GPU')\n",
    "    ngpu = len(gpus)\n",
    "    # Check number of GPUs\n",
    "    if ngpu:\n",
    "        # Set GPU strategy\n",
    "        strategy = tf.distribute.MirroredStrategy(gpus) # single-GPU or multi-GPU\n",
    "        # Print GPU details\n",
    "        print(\"> Running on GPU\", end=' | ')\n",
    "        print(\"Num of GPUs: \", ngpu)\n",
    "        device='GPU'\n",
    "    else:\n",
    "        # If no GPUs are available, use CPU\n",
    "        print(\"> Running on CPU\")\n",
    "        strategy = tf.distribute.get_strategy()\n",
    "        device='CPU'\n",
    "    return strategy, device"
   ]
  },
  {
   "cell_type": "code",
   "execution_count": 4,
   "id": "c6c050eb",
   "metadata": {
    "execution": {
     "iopub.execute_input": "2023-12-19T04:32:57.917593Z",
     "iopub.status.busy": "2023-12-19T04:32:57.917239Z",
     "iopub.status.idle": "2023-12-19T04:33:03.403652Z",
     "shell.execute_reply": "2023-12-19T04:33:03.402417Z"
    },
    "papermill": {
     "duration": 5.503076,
     "end_time": "2023-12-19T04:33:03.405924",
     "exception": false,
     "start_time": "2023-12-19T04:32:57.902848",
     "status": "completed"
    },
    "tags": []
   },
   "outputs": [
    {
     "name": "stdout",
     "output_type": "stream",
     "text": [
      "> Running on GPU | Num of GPUs:  1\n"
     ]
    }
   ],
   "source": [
    "class CFG():\n",
    "    ml = 0\n",
    "    dl = 1\n",
    "    class_names = [\"Human\",\"AI\"]\n",
    "    num_classes = 2\n",
    "    classes = list(range(num_classes))\n",
    "    class_2_name = dict(zip(classes,class_names))\n",
    "    num_folds = 5\n",
    "    seed = 42\n",
    "    max_sequence = 250\n",
    "#     max_tokens = 20000    \n",
    "    max_tokens = 35000\n",
    "    batch_size = 32\n",
    "    selected_folds = [0,1,3]\n",
    "    ml_lr = 0.00001\n",
    "    embd_dim = 150\n",
    "    epochs = 3\n",
    "    prediction_strategy = dl\n",
    "    strategy, device = getDevice()\n",
    "    tf.random.set_seed(seed)"
   ]
  },
  {
   "cell_type": "code",
   "execution_count": 5,
   "id": "bcf50778",
   "metadata": {
    "execution": {
     "iopub.execute_input": "2023-12-19T04:33:03.432109Z",
     "iopub.status.busy": "2023-12-19T04:33:03.431568Z",
     "iopub.status.idle": "2023-12-19T04:33:03.436021Z",
     "shell.execute_reply": "2023-12-19T04:33:03.435171Z"
    },
    "papermill": {
     "duration": 0.019772,
     "end_time": "2023-12-19T04:33:03.437825",
     "exception": false,
     "start_time": "2023-12-19T04:33:03.418053",
     "status": "completed"
    },
    "tags": []
   },
   "outputs": [],
   "source": [
    "ext_data_path = Path(\"/kaggle/input/daigt-proper-train-dataset\")\n",
    "train_path = Path(\"/kaggle/input/daigt-v2-train-dataset/train_v2_drcat_02.csv\")\n",
    "test_path = Path('/kaggle/input/llm-detect-ai-generated-text/test_essays.csv')"
   ]
  },
  {
   "cell_type": "code",
   "execution_count": 6,
   "id": "810afcf8",
   "metadata": {
    "execution": {
     "iopub.execute_input": "2023-12-19T04:33:03.462609Z",
     "iopub.status.busy": "2023-12-19T04:33:03.461853Z",
     "iopub.status.idle": "2023-12-19T04:33:13.132834Z",
     "shell.execute_reply": "2023-12-19T04:33:13.131662Z"
    },
    "papermill": {
     "duration": 9.686057,
     "end_time": "2023-12-19T04:33:13.135375",
     "exception": false,
     "start_time": "2023-12-19T04:33:03.449318",
     "status": "completed"
    },
    "tags": []
   },
   "outputs": [
    {
     "name": "stdout",
     "output_type": "stream",
     "text": [
      "<class 'pandas.core.frame.DataFrame'>\n",
      "RangeIndex: 3 entries, 0 to 2\n",
      "Data columns (total 3 columns):\n",
      " #   Column     Non-Null Count  Dtype \n",
      "---  ------     --------------  ----- \n",
      " 0   id         3 non-null      object\n",
      " 1   prompt_id  3 non-null      int64 \n",
      " 2   text       3 non-null      object\n",
      "dtypes: int64(1), object(2)\n",
      "memory usage: 200.0+ bytes\n"
     ]
    }
   ],
   "source": [
    "# df = pd.read_csv(str(train_data_path))\n",
    "df = pd.read_csv(str(train_path))\n",
    "test_df = pd.read_csv(str(test_path))\n",
    "\n",
    "data_frames = []\n",
    "for file_path in ext_data_path.iterdir():\n",
    "    if file_path.is_file():\n",
    "        temp_df = pd.read_csv(file_path)\n",
    "        data_frames.append(temp_df)\n",
    "    \n",
    "new_df = pd.concat(data_frames)\n",
    "test_df.info()\n",
    "# df.head()"
   ]
  },
  {
   "cell_type": "code",
   "execution_count": 7,
   "id": "bf464a6e",
   "metadata": {
    "execution": {
     "iopub.execute_input": "2023-12-19T04:33:13.160454Z",
     "iopub.status.busy": "2023-12-19T04:33:13.160148Z",
     "iopub.status.idle": "2023-12-19T04:33:13.164114Z",
     "shell.execute_reply": "2023-12-19T04:33:13.163260Z"
    },
    "papermill": {
     "duration": 0.018553,
     "end_time": "2023-12-19T04:33:13.166129",
     "exception": false,
     "start_time": "2023-12-19T04:33:13.147576",
     "status": "completed"
    },
    "tags": []
   },
   "outputs": [],
   "source": [
    "# total_word = set()\n",
    "# for essay in df[\"text\"]:\n",
    "#     words = [word for word in essay.split(\" \")]\n",
    "#     total_word.update(words)\n",
    "# print(len(total_word))"
   ]
  },
  {
   "cell_type": "code",
   "execution_count": 8,
   "id": "a20acc24",
   "metadata": {
    "execution": {
     "iopub.execute_input": "2023-12-19T04:33:13.190349Z",
     "iopub.status.busy": "2023-12-19T04:33:13.190044Z",
     "iopub.status.idle": "2023-12-19T04:33:13.199596Z",
     "shell.execute_reply": "2023-12-19T04:33:13.198910Z"
    },
    "papermill": {
     "duration": 0.023797,
     "end_time": "2023-12-19T04:33:13.201432",
     "exception": false,
     "start_time": "2023-12-19T04:33:13.177635",
     "status": "completed"
    },
    "tags": []
   },
   "outputs": [],
   "source": [
    "new_df[\"label_name\"] = new_df[\"label\"].map(CFG.class_2_name)"
   ]
  },
  {
   "cell_type": "code",
   "execution_count": 9,
   "id": "bb718f14",
   "metadata": {
    "execution": {
     "iopub.execute_input": "2023-12-19T04:33:13.226359Z",
     "iopub.status.busy": "2023-12-19T04:33:13.226027Z",
     "iopub.status.idle": "2023-12-19T04:33:13.250697Z",
     "shell.execute_reply": "2023-12-19T04:33:13.249852Z"
    },
    "papermill": {
     "duration": 0.039225,
     "end_time": "2023-12-19T04:33:13.252754",
     "exception": false,
     "start_time": "2023-12-19T04:33:13.213529",
     "status": "completed"
    },
    "tags": []
   },
   "outputs": [
    {
     "data": {
      "text/plain": [
       "label_name\n",
       "Human    115372\n",
       "AI        44084\n",
       "Name: count, dtype: int64"
      ]
     },
     "execution_count": 9,
     "metadata": {},
     "output_type": "execute_result"
    }
   ],
   "source": [
    "test_label_counts = new_df[\"label_name\"].value_counts()\n",
    "test_label_counts"
   ]
  },
  {
   "cell_type": "code",
   "execution_count": 10,
   "id": "8416b727",
   "metadata": {
    "execution": {
     "iopub.execute_input": "2023-12-19T04:33:13.277582Z",
     "iopub.status.busy": "2023-12-19T04:33:13.277268Z",
     "iopub.status.idle": "2023-12-19T04:33:13.308601Z",
     "shell.execute_reply": "2023-12-19T04:33:13.307714Z"
    },
    "papermill": {
     "duration": 0.046093,
     "end_time": "2023-12-19T04:33:13.310602",
     "exception": false,
     "start_time": "2023-12-19T04:33:13.264509",
     "status": "completed"
    },
    "tags": []
   },
   "outputs": [
    {
     "data": {
      "text/plain": [
       "fold  label_name\n",
       "0     AI             5138\n",
       "      Human         14135\n",
       "1     AI             5137\n",
       "      Human         14136\n",
       "2     AI             5136\n",
       "      Human         14137\n",
       "3     AI             5135\n",
       "      Human         14138\n",
       "4     AI             5133\n",
       "      Human         14139\n",
       "5     AI             3681\n",
       "      Human          8939\n",
       "6     AI             3680\n",
       "      Human          8938\n",
       "7     AI             3680\n",
       "      Human          8938\n",
       "8     AI             3682\n",
       "      Human          8936\n",
       "9     AI             3682\n",
       "      Human          8936\n",
       "dtype: int64"
      ]
     },
     "execution_count": 10,
     "metadata": {},
     "output_type": "execute_result"
    }
   ],
   "source": [
    "new_df.groupby([\"fold\",\"label_name\"]).size()"
   ]
  },
  {
   "cell_type": "code",
   "execution_count": 11,
   "id": "33424699",
   "metadata": {
    "execution": {
     "iopub.execute_input": "2023-12-19T04:33:13.336922Z",
     "iopub.status.busy": "2023-12-19T04:33:13.336570Z",
     "iopub.status.idle": "2023-12-19T04:33:13.340558Z",
     "shell.execute_reply": "2023-12-19T04:33:13.339681Z"
    },
    "papermill": {
     "duration": 0.019408,
     "end_time": "2023-12-19T04:33:13.342574",
     "exception": false,
     "start_time": "2023-12-19T04:33:13.323166",
     "status": "completed"
    },
    "tags": []
   },
   "outputs": [],
   "source": [
    "########### Testing with larger data\n",
    "#test_df = new_df"
   ]
  },
  {
   "cell_type": "code",
   "execution_count": 12,
   "id": "779a5582",
   "metadata": {
    "execution": {
     "iopub.execute_input": "2023-12-19T04:33:13.368627Z",
     "iopub.status.busy": "2023-12-19T04:33:13.368265Z",
     "iopub.status.idle": "2023-12-19T04:33:13.378148Z",
     "shell.execute_reply": "2023-12-19T04:33:13.377249Z"
    },
    "papermill": {
     "duration": 0.025585,
     "end_time": "2023-12-19T04:33:13.380416",
     "exception": false,
     "start_time": "2023-12-19T04:33:13.354831",
     "status": "completed"
    },
    "tags": []
   },
   "outputs": [
    {
     "name": "stdout",
     "output_type": "stream",
     "text": [
      "<class 'pandas.core.frame.DataFrame'>\n",
      "RangeIndex: 3 entries, 0 to 2\n",
      "Data columns (total 3 columns):\n",
      " #   Column     Non-Null Count  Dtype \n",
      "---  ------     --------------  ----- \n",
      " 0   id         3 non-null      object\n",
      " 1   prompt_id  3 non-null      int64 \n",
      " 2   text       3 non-null      object\n",
      "dtypes: int64(1), object(2)\n",
      "memory usage: 200.0+ bytes\n"
     ]
    }
   ],
   "source": [
    "test_df.info()"
   ]
  },
  {
   "cell_type": "markdown",
   "id": "29d0504b",
   "metadata": {
    "papermill": {
     "duration": 0.011849,
     "end_time": "2023-12-19T04:33:13.404423",
     "exception": false,
     "start_time": "2023-12-19T04:33:13.392574",
     "status": "completed"
    },
    "tags": []
   },
   "source": [
    "## EDA of the data"
   ]
  },
  {
   "cell_type": "code",
   "execution_count": 13,
   "id": "30c34f61",
   "metadata": {
    "execution": {
     "iopub.execute_input": "2023-12-19T04:33:13.430763Z",
     "iopub.status.busy": "2023-12-19T04:33:13.430368Z",
     "iopub.status.idle": "2023-12-19T04:33:13.455343Z",
     "shell.execute_reply": "2023-12-19T04:33:13.454168Z"
    },
    "papermill": {
     "duration": 0.040204,
     "end_time": "2023-12-19T04:33:13.457365",
     "exception": false,
     "start_time": "2023-12-19T04:33:13.417161",
     "status": "completed"
    },
    "tags": []
   },
   "outputs": [
    {
     "name": "stdout",
     "output_type": "stream",
     "text": [
      "<class 'pandas.core.frame.DataFrame'>\n",
      "RangeIndex: 44868 entries, 0 to 44867\n",
      "Data columns (total 5 columns):\n",
      " #   Column         Non-Null Count  Dtype \n",
      "---  ------         --------------  ----- \n",
      " 0   text           44868 non-null  object\n",
      " 1   label          44868 non-null  int64 \n",
      " 2   prompt_name    44868 non-null  object\n",
      " 3   source         44868 non-null  object\n",
      " 4   RDizzl3_seven  44868 non-null  bool  \n",
      "dtypes: bool(1), int64(1), object(3)\n",
      "memory usage: 1.4+ MB\n"
     ]
    }
   ],
   "source": [
    "df.info()"
   ]
  },
  {
   "cell_type": "code",
   "execution_count": 14,
   "id": "b3365458",
   "metadata": {
    "execution": {
     "iopub.execute_input": "2023-12-19T04:33:13.531110Z",
     "iopub.status.busy": "2023-12-19T04:33:13.530764Z",
     "iopub.status.idle": "2023-12-19T04:33:13.545089Z",
     "shell.execute_reply": "2023-12-19T04:33:13.544263Z"
    },
    "papermill": {
     "duration": 0.029114,
     "end_time": "2023-12-19T04:33:13.546932",
     "exception": false,
     "start_time": "2023-12-19T04:33:13.517818",
     "status": "completed"
    },
    "tags": []
   },
   "outputs": [
    {
     "data": {
      "text/plain": [
       "label_name\n",
       "Human    27371\n",
       "AI       17497\n",
       "Name: count, dtype: int64"
      ]
     },
     "execution_count": 14,
     "metadata": {},
     "output_type": "execute_result"
    }
   ],
   "source": [
    "df[\"label_name\"] = df[\"label\"].map(CFG.class_2_name)\n",
    "label_counts = df[\"label_name\"].value_counts()\n",
    "label_counts"
   ]
  },
  {
   "cell_type": "code",
   "execution_count": 15,
   "id": "899e9082",
   "metadata": {
    "execution": {
     "iopub.execute_input": "2023-12-19T04:33:13.572865Z",
     "iopub.status.busy": "2023-12-19T04:33:13.571993Z",
     "iopub.status.idle": "2023-12-19T04:33:13.885784Z",
     "shell.execute_reply": "2023-12-19T04:33:13.884830Z"
    },
    "papermill": {
     "duration": 0.328972,
     "end_time": "2023-12-19T04:33:13.887983",
     "exception": false,
     "start_time": "2023-12-19T04:33:13.559011",
     "status": "completed"
    },
    "tags": []
   },
   "outputs": [
    {
     "data": {
      "text/plain": [
       "Text(0.5, 1.0, 'Label distribution')"
      ]
     },
     "execution_count": 15,
     "metadata": {},
     "output_type": "execute_result"
    },
    {
     "data": {
      "image/png": "[encoded data removed]",
      "text/plain": [
       "<Figure size 640x480 with 1 Axes>"
      ]
     },
     "metadata": {},
     "output_type": "display_data"
    }
   ],
   "source": [
    "label_counts.plot(kind=\"bar\",color=[cmap(0.35),cmap(0.75)])\n",
    "plt.xlabel(\"Label\")\n",
    "plt.ylabel(\"Counts\")\n",
    "plt.title(\"Label distribution\")"
   ]
  },
  {
   "cell_type": "code",
   "execution_count": 16,
   "id": "3cf5d1ef",
   "metadata": {
    "execution": {
     "iopub.execute_input": "2023-12-19T04:33:13.915061Z",
     "iopub.status.busy": "2023-12-19T04:33:13.914681Z",
     "iopub.status.idle": "2023-12-19T04:33:14.224445Z",
     "shell.execute_reply": "2023-12-19T04:33:14.223504Z"
    },
    "papermill": {
     "duration": 0.325861,
     "end_time": "2023-12-19T04:33:14.226643",
     "exception": false,
     "start_time": "2023-12-19T04:33:13.900782",
     "status": "completed"
    },
    "tags": []
   },
   "outputs": [
    {
     "data": {
      "text/plain": [
       "Text(0.5, 1.0, 'Essay Length Box Plot')"
      ]
     },
     "execution_count": 16,
     "metadata": {},
     "output_type": "execute_result"
    },
    {
     "data": {
      "image/png": "[encoded data removed]",
      "text/plain": [
       "<Figure size 640x480 with 1 Axes>"
      ]
     },
     "metadata": {},
     "output_type": "display_data"
    }
   ],
   "source": [
    "df[\"text\"].str.len().plot.box()\n",
    "plt.title(\"Essay Length Box Plot\")"
   ]
  },
  {
   "cell_type": "markdown",
   "id": "d0732916",
   "metadata": {
    "papermill": {
     "duration": 0.013231,
     "end_time": "2023-12-19T04:33:14.253283",
     "exception": false,
     "start_time": "2023-12-19T04:33:14.240052",
     "status": "completed"
    },
    "tags": []
   },
   "source": [
    "## Data Split"
   ]
  },
  {
   "cell_type": "code",
   "execution_count": 17,
   "id": "c1a81929",
   "metadata": {
    "execution": {
     "iopub.execute_input": "2023-12-19T04:33:14.282071Z",
     "iopub.status.busy": "2023-12-19T04:33:14.281717Z",
     "iopub.status.idle": "2023-12-19T04:33:14.333008Z",
     "shell.execute_reply": "2023-12-19T04:33:14.332077Z"
    },
    "papermill": {
     "duration": 0.068314,
     "end_time": "2023-12-19T04:33:14.335465",
     "exception": false,
     "start_time": "2023-12-19T04:33:14.267151",
     "status": "completed"
    },
    "tags": []
   },
   "outputs": [
    {
     "data": {
      "text/html": [
       "<div>\n",
       "<style scoped>\n",
       "    .dataframe tbody tr th:only-of-type {\n",
       "        vertical-align: middle;\n",
       "    }\n",
       "\n",
       "    .dataframe tbody tr th {\n",
       "        vertical-align: top;\n",
       "    }\n",
       "\n",
       "    .dataframe thead th {\n",
       "        text-align: right;\n",
       "    }\n",
       "</style>\n",
       "<table border=\"1\" class=\"dataframe\">\n",
       "  <thead>\n",
       "    <tr style=\"text-align: right;\">\n",
       "      <th></th>\n",
       "      <th>text</th>\n",
       "      <th>label</th>\n",
       "      <th>prompt_name</th>\n",
       "      <th>source</th>\n",
       "      <th>RDizzl3_seven</th>\n",
       "      <th>label_name</th>\n",
       "      <th>stratify</th>\n",
       "      <th>fold</th>\n",
       "    </tr>\n",
       "  </thead>\n",
       "  <tbody>\n",
       "    <tr>\n",
       "      <th>0</th>\n",
       "      <td>Phones\\n\\nModern humans today are always on th...</td>\n",
       "      <td>0</td>\n",
       "      <td>Phones and driving</td>\n",
       "      <td>persuade_corpus</td>\n",
       "      <td>False</td>\n",
       "      <td>Human</td>\n",
       "      <td>0persuade_corpus</td>\n",
       "      <td>0</td>\n",
       "    </tr>\n",
       "    <tr>\n",
       "      <th>1</th>\n",
       "      <td>This essay will explain if drivers should or s...</td>\n",
       "      <td>0</td>\n",
       "      <td>Phones and driving</td>\n",
       "      <td>persuade_corpus</td>\n",
       "      <td>False</td>\n",
       "      <td>Human</td>\n",
       "      <td>0persuade_corpus</td>\n",
       "      <td>0</td>\n",
       "    </tr>\n",
       "    <tr>\n",
       "      <th>2</th>\n",
       "      <td>Driving while the use of cellular devices\\n\\nT...</td>\n",
       "      <td>0</td>\n",
       "      <td>Phones and driving</td>\n",
       "      <td>persuade_corpus</td>\n",
       "      <td>False</td>\n",
       "      <td>Human</td>\n",
       "      <td>0persuade_corpus</td>\n",
       "      <td>0</td>\n",
       "    </tr>\n",
       "  </tbody>\n",
       "</table>\n",
       "</div>"
      ],
      "text/plain": [
       "                                                text  label  \\\n",
       "0  Phones\\n\\nModern humans today are always on th...      0   \n",
       "1  This essay will explain if drivers should or s...      0   \n",
       "2  Driving while the use of cellular devices\\n\\nT...      0   \n",
       "\n",
       "          prompt_name           source  RDizzl3_seven label_name  \\\n",
       "0  Phones and driving  persuade_corpus          False      Human   \n",
       "1  Phones and driving  persuade_corpus          False      Human   \n",
       "2  Phones and driving  persuade_corpus          False      Human   \n",
       "\n",
       "           stratify  fold  \n",
       "0  0persuade_corpus     0  \n",
       "1  0persuade_corpus     0  \n",
       "2  0persuade_corpus     0  "
      ]
     },
     "execution_count": 17,
     "metadata": {},
     "output_type": "execute_result"
    }
   ],
   "source": [
    "# Create a column to indicate the source and label combination\n",
    "df[\"stratify\"] = df[\"label\"].astype(str) + df[\"source\"].astype(str)\n",
    "df[\"fold\"] = 0\n",
    "df.head(3)"
   ]
  },
  {
   "cell_type": "code",
   "execution_count": 18,
   "id": "aaf8fefc",
   "metadata": {
    "execution": {
     "iopub.execute_input": "2023-12-19T04:33:14.365607Z",
     "iopub.status.busy": "2023-12-19T04:33:14.365239Z",
     "iopub.status.idle": "2023-12-19T04:33:14.481895Z",
     "shell.execute_reply": "2023-12-19T04:33:14.480539Z"
    },
    "papermill": {
     "duration": 0.134175,
     "end_time": "2023-12-19T04:33:14.484470",
     "exception": false,
     "start_time": "2023-12-19T04:33:14.350295",
     "status": "completed"
    },
    "tags": []
   },
   "outputs": [
    {
     "name": "stderr",
     "output_type": "stream",
     "text": [
      "/opt/conda/lib/python3.10/site-packages/sklearn/utils/validation.py:605: FutureWarning: is_sparse is deprecated and will be removed in a future version. Check `isinstance(dtype, pd.SparseDtype)` instead.\n",
      "  if is_sparse(pd_dtype):\n",
      "/opt/conda/lib/python3.10/site-packages/sklearn/utils/validation.py:614: FutureWarning: is_sparse is deprecated and will be removed in a future version. Check `isinstance(dtype, pd.SparseDtype)` instead.\n",
      "  if is_sparse(pd_dtype) or not is_extension_array_dtype(pd_dtype):\n",
      "/opt/conda/lib/python3.10/site-packages/sklearn/model_selection/_split.py:700: UserWarning: The least populated class in y has only 3 members, which is less than n_splits=5.\n",
      "  warnings.warn(\n"
     ]
    },
    {
     "data": {
      "text/html": [
       "<div>\n",
       "<style scoped>\n",
       "    .dataframe tbody tr th:only-of-type {\n",
       "        vertical-align: middle;\n",
       "    }\n",
       "\n",
       "    .dataframe tbody tr th {\n",
       "        vertical-align: top;\n",
       "    }\n",
       "\n",
       "    .dataframe thead th {\n",
       "        text-align: right;\n",
       "    }\n",
       "</style>\n",
       "<table border=\"1\" class=\"dataframe\">\n",
       "  <thead>\n",
       "    <tr style=\"text-align: right;\">\n",
       "      <th></th>\n",
       "      <th>text</th>\n",
       "      <th>label</th>\n",
       "      <th>prompt_name</th>\n",
       "      <th>source</th>\n",
       "      <th>RDizzl3_seven</th>\n",
       "      <th>label_name</th>\n",
       "      <th>stratify</th>\n",
       "      <th>fold</th>\n",
       "    </tr>\n",
       "  </thead>\n",
       "  <tbody>\n",
       "    <tr>\n",
       "      <th>0</th>\n",
       "      <td>Phones\\n\\nModern humans today are always on th...</td>\n",
       "      <td>0</td>\n",
       "      <td>Phones and driving</td>\n",
       "      <td>persuade_corpus</td>\n",
       "      <td>False</td>\n",
       "      <td>Human</td>\n",
       "      <td>0persuade_corpus</td>\n",
       "      <td>2</td>\n",
       "    </tr>\n",
       "    <tr>\n",
       "      <th>1</th>\n",
       "      <td>This essay will explain if drivers should or s...</td>\n",
       "      <td>0</td>\n",
       "      <td>Phones and driving</td>\n",
       "      <td>persuade_corpus</td>\n",
       "      <td>False</td>\n",
       "      <td>Human</td>\n",
       "      <td>0persuade_corpus</td>\n",
       "      <td>4</td>\n",
       "    </tr>\n",
       "    <tr>\n",
       "      <th>2</th>\n",
       "      <td>Driving while the use of cellular devices\\n\\nT...</td>\n",
       "      <td>0</td>\n",
       "      <td>Phones and driving</td>\n",
       "      <td>persuade_corpus</td>\n",
       "      <td>False</td>\n",
       "      <td>Human</td>\n",
       "      <td>0persuade_corpus</td>\n",
       "      <td>0</td>\n",
       "    </tr>\n",
       "  </tbody>\n",
       "</table>\n",
       "</div>"
      ],
      "text/plain": [
       "                                                text  label  \\\n",
       "0  Phones\\n\\nModern humans today are always on th...      0   \n",
       "1  This essay will explain if drivers should or s...      0   \n",
       "2  Driving while the use of cellular devices\\n\\nT...      0   \n",
       "\n",
       "          prompt_name           source  RDizzl3_seven label_name  \\\n",
       "0  Phones and driving  persuade_corpus          False      Human   \n",
       "1  Phones and driving  persuade_corpus          False      Human   \n",
       "2  Phones and driving  persuade_corpus          False      Human   \n",
       "\n",
       "           stratify  fold  \n",
       "0  0persuade_corpus     2  \n",
       "1  0persuade_corpus     4  \n",
       "2  0persuade_corpus     0  "
      ]
     },
     "execution_count": 18,
     "metadata": {},
     "output_type": "execute_result"
    }
   ],
   "source": [
    "# Create folds for the combination of label and source\n",
    "skf = StratifiedKFold(n_splits=CFG.num_folds,random_state=CFG.seed,shuffle=True)\n",
    "\n",
    "for fold, (train_inx,valid_inx) in enumerate(skf.split(df,df[\"stratify\"])):\n",
    "  df.loc[valid_inx,\"fold\"] = fold\n",
    "df.head(3)"
   ]
  },
  {
   "cell_type": "code",
   "execution_count": 19,
   "id": "84032a0c",
   "metadata": {
    "execution": {
     "iopub.execute_input": "2023-12-19T04:33:14.515067Z",
     "iopub.status.busy": "2023-12-19T04:33:14.514691Z",
     "iopub.status.idle": "2023-12-19T04:33:14.534917Z",
     "shell.execute_reply": "2023-12-19T04:33:14.533898Z"
    },
    "papermill": {
     "duration": 0.037976,
     "end_time": "2023-12-19T04:33:14.537056",
     "exception": false,
     "start_time": "2023-12-19T04:33:14.499080",
     "status": "completed"
    },
    "tags": []
   },
   "outputs": [
    {
     "data": {
      "text/plain": [
       "fold  label_name  source                         \n",
       "0     AI          NousResearch/Llama-2-7b-chat-hf      80\n",
       "                  chat_gpt_moth                       484\n",
       "                  cohere-command                       70\n",
       "                  darragh_claude_v6                   200\n",
       "                  darragh_claude_v7                   200\n",
       "                                                     ... \n",
       "4     AI          palm-text-bison1                     70\n",
       "                  radek_500                           100\n",
       "                  radekgpt4                            40\n",
       "      Human       persuade_corpus                    5199\n",
       "                  train_essays                        275\n",
       "Length: 88, dtype: int64"
      ]
     },
     "execution_count": 19,
     "metadata": {},
     "output_type": "execute_result"
    }
   ],
   "source": [
    "df.groupby([\"fold\",\"label_name\",\"source\"]).size()"
   ]
  },
  {
   "cell_type": "markdown",
   "id": "b3016834",
   "metadata": {
    "papermill": {
     "duration": 0.013916,
     "end_time": "2023-12-19T04:33:14.565855",
     "exception": false,
     "start_time": "2023-12-19T04:33:14.551939",
     "status": "completed"
    },
    "tags": []
   },
   "source": [
    "## Preprocessing"
   ]
  },
  {
   "cell_type": "code",
   "execution_count": 20,
   "id": "d305358a",
   "metadata": {
    "execution": {
     "iopub.execute_input": "2023-12-19T04:33:14.596151Z",
     "iopub.status.busy": "2023-12-19T04:33:14.595038Z",
     "iopub.status.idle": "2023-12-19T04:33:16.116121Z",
     "shell.execute_reply": "2023-12-19T04:33:16.115211Z"
    },
    "papermill": {
     "duration": 1.538648,
     "end_time": "2023-12-19T04:33:16.118542",
     "exception": false,
     "start_time": "2023-12-19T04:33:14.579894",
     "status": "completed"
    },
    "tags": []
   },
   "outputs": [
    {
     "name": "stdout",
     "output_type": "stream",
     "text": [
      "🚫こ🔮👏🐢😕🍞👦注🍕🤪👂😋📺🍟😴—🐾🚭安🧽🌈🔧💆🏞路😅☹🐱🤯р🚴😒🌻🧡🏈’🕰🌱🎵🧖🧘👻🎩😓🧬唯🔜🐰💕👬😝🌧📰が者п💊😻📷🏔📈🥛用🏊😠📅📧🙀📸🔭🎠🌎💘🌊😤🏡🌮🙏🥳🧚📱”📄合💥ã司💫🇷🏻о🇵♂🏜🗳🌠😭🚪有🐻…🏳📣🐭机\n"
     ]
    }
   ],
   "source": [
    "# character exclusion\n",
    "human_df = df[df[\"label_name\"] == \"Human\"].copy()\n",
    "ai_df = df[df[\"label_name\"] == \"AI\"].copy()\n",
    "human_characters = set(\"\".join(human_df[\"text\"].to_list()))\n",
    "ai_characters = set(\"\".join(ai_df[\"text\"].to_list()))\n",
    "caracter_exclusion = \"\".join([x for x in ai_characters if x not in human_characters])\n",
    "print(caracter_exclusion)\n",
    "caracter_escape = re.escape(caracter_exclusion)\n",
    "char_excl_regex = f\"[{caracter_escape}]\""
   ]
  },
  {
   "cell_type": "code",
   "execution_count": 21,
   "id": "0e660eee",
   "metadata": {
    "execution": {
     "iopub.execute_input": "2023-12-19T04:33:16.149247Z",
     "iopub.status.busy": "2023-12-19T04:33:16.148864Z",
     "iopub.status.idle": "2023-12-19T04:33:16.160141Z",
     "shell.execute_reply": "2023-12-19T04:33:16.159338Z"
    },
    "papermill": {
     "duration": 0.028894,
     "end_time": "2023-12-19T04:33:16.162066",
     "exception": false,
     "start_time": "2023-12-19T04:33:16.133172",
     "status": "completed"
    },
    "tags": []
   },
   "outputs": [],
   "source": [
    "exclude = re.compile(\"[\"\n",
    "    u\"\\u000A\"                 # new-line\n",
    "    u\"\\U0001F600-\\U0001F64F\"  # emoticons\n",
    "    u\"\\U0001F300-\\U0001F5FF\"  # symbols & pictographs\n",
    "    u\"\\U0001F680-\\U0001F6FF\"  # transport & map symbols\n",
    "    u\"\\U0001F1E0-\\U0001F1FF\"  # flags (iOS)\n",
    "    u\"\\U00002500-\\U00002BEF\"  # chinese char\n",
    "    u\"\\U00002702-\\U000027B0\"\n",
    "    u\"\\U000024C2-\\U0001F251\"\n",
    "    u\"\\U0001f926-\\U0001f937\"\n",
    "    u\"\\U00010000-\\U0010ffff\"\n",
    "    u\"\\u2640-\\u2642\"\n",
    "    u\"\\u2600-\\u2B55\"\n",
    "    u\"\\u200d\"\n",
    "    u\"\\u23cf\"\n",
    "    u\"\\u23e9\"\n",
    "    u\"\\u231a\"\n",
    "    u\"\\ufe0f\"  # dingbats\n",
    "    u\"\\u3030\"\n",
    "                  \"]+\",re.UNICODE)\n",
    "regex_pattern = exclude.pattern\n",
    "html_exclude = re.compile(r'<.*?>')\n",
    "\n",
    "def standardizeDataFrameText(text):\n",
    "    if CFG.prediction_strategy == CFG.ml:\n",
    "        text = re.sub(exclude,\"\",text)\n",
    "        text = re.sub(html_exclude,\"\",text)\n",
    "        return text\n",
    "\n"
   ]
  },
  {
   "cell_type": "code",
   "execution_count": 22,
   "id": "8a5b3f58",
   "metadata": {
    "execution": {
     "iopub.execute_input": "2023-12-19T04:33:16.193599Z",
     "iopub.status.busy": "2023-12-19T04:33:16.192704Z",
     "iopub.status.idle": "2023-12-19T04:33:16.200048Z",
     "shell.execute_reply": "2023-12-19T04:33:16.199137Z"
    },
    "papermill": {
     "duration": 0.025361,
     "end_time": "2023-12-19T04:33:16.202224",
     "exception": false,
     "start_time": "2023-12-19T04:33:16.176863",
     "status": "completed"
    },
    "tags": []
   },
   "outputs": [],
   "source": [
    "def standardizeText(input_data):\n",
    "    if CFG.prediction_strategy == CFG.dl:\n",
    "        data = tf.strings.lower(input_data)\n",
    "        data = tf.strings.regex_replace(data,regex_pattern,\"\")\n",
    "        data = tf.strings.regex_replace(data,'<.*?>',\"\")        \n",
    "        data = tf.strings.regex_replace(data,char_excl_regex,\"\")\n",
    "\n",
    "        return data\n",
    "\n",
    "# Preprocessing and vectorization of text\n",
    "def buildVectorizationLayer(texts:pd.DataFrame):\n",
    "    if CFG.prediction_strategy == CFG.dl:\n",
    "        vectorization_layer = TextVectorization(standardize= standardizeText,max_tokens=CFG.max_tokens,\\\n",
    "                                        output_mode = \"int\"\n",
    "                                        ,output_sequence_length=CFG.max_sequence)\n",
    "        train_text = tf.data.Dataset.from_tensor_slices(texts)\n",
    "        vectorization_layer.adapt(train_text)\n",
    "        return vectorization_layer"
   ]
  },
  {
   "cell_type": "markdown",
   "id": "4b0f0ad2",
   "metadata": {
    "papermill": {
     "duration": 0.014234,
     "end_time": "2023-12-19T04:33:16.231493",
     "exception": false,
     "start_time": "2023-12-19T04:33:16.217259",
     "status": "completed"
    },
    "tags": []
   },
   "source": [
    "## Dataloader"
   ]
  },
  {
   "cell_type": "code",
   "execution_count": 23,
   "id": "852e28f0",
   "metadata": {
    "execution": {
     "iopub.execute_input": "2023-12-19T04:33:16.262107Z",
     "iopub.status.busy": "2023-12-19T04:33:16.261738Z",
     "iopub.status.idle": "2023-12-19T04:33:16.279384Z",
     "shell.execute_reply": "2023-12-19T04:33:16.278434Z"
    },
    "papermill": {
     "duration": 0.035408,
     "end_time": "2023-12-19T04:33:16.281378",
     "exception": false,
     "start_time": "2023-12-19T04:33:16.245970",
     "status": "completed"
    },
    "tags": []
   },
   "outputs": [],
   "source": [
    "def prepText(texts, tokenizer, max_sequence_length):\n",
    "    if CFG.prediction_strategy == CFG.ml:\n",
    "        text_sequences = tokenizer.texts_to_sequences(texts)\n",
    "        return sequence.pad_sequences(text_sequences, maxlen=max_sequence_length)\n",
    "\n",
    "def getTokenizer(texts:pd.DataFrame):\n",
    "    if CFG.prediction_strategy == CFG.ml:\n",
    "        texts = texts.apply(standardizeDataFrameText)\n",
    "        tokenizer = text.Tokenizer(num_words = CFG.max_tokens,lower=True,)\n",
    "        tokenizer.fit_on_texts(texts)\n",
    "        return tokenizer\n",
    "\n",
    "def vectorizeDataFrame(texts:pd.DataFrame,labels,tokenizer):\n",
    "    if CFG.prediction_strategy == CFG.ml:\n",
    "        texts = prepText(texts,tokenizer,CFG.max_sequence)\n",
    "        texts = np.c_[texts,labels.to_numpy()] if labels is not None else texts\n",
    "        return texts\n",
    "\n",
    "def buildDataset(texts,labels=None,batch_size=32,shuffle=False,\n",
    "                 drop_remainder=True,repeat=False,vectorizer=None):\n",
    "    AUTO = tf.data.AUTOTUNE\n",
    "    slices = (texts) if labels is None else (texts,labels)\n",
    "    ds = tf.data.Dataset.from_tensor_slices(slices)\n",
    "    # ds = ds.cache() if cache else ds\n",
    "    # Vectorization function\n",
    "    def vectorizeText(texts,labels=None):\n",
    "        texts = vectorizer(texts)\n",
    "        return (texts) if labels is None else (texts,labels)\n",
    "\n",
    "    ds = ds.map(vectorizeText, num_parallel_calls=AUTO)\n",
    "\n",
    "    ds = ds.repeat() if repeat else ds\n",
    "    opt = tf.data.Options()\n",
    "    if shuffle:\n",
    "        ds = ds.shuffle(shuffle,seed=CFG.seed)\n",
    "        opt.experimental_deterministic = False\n",
    "    ds = ds.with_options(opt)\n",
    "    ds = ds.batch(batch_size,drop_remainder = drop_remainder)\n",
    "    ds = ds.prefetch(AUTO)\n",
    "    return ds\n",
    "\n",
    "\n",
    "def getDataset(fold=None,test=False,df=None,vectorizer=None):\n",
    "   \n",
    "    if test == False: # create training and validation set\n",
    "        # Create the training dataset\n",
    "        train_df = df[df[\"fold\"]!= fold].sample(frac=1)\n",
    "        train_text = train_df[\"text\"].to_list()\n",
    "        train_labels = train_df[\"label\"].to_list()\n",
    "        \n",
    "        # Vectorize the text based on training data\n",
    "        vectorizer = buildVectorizationLayer(train_text) # Create the vectorization layer\n",
    "        tokenizer  = getTokenizer(train_df[\"text\"])      # Tokenizer from training data\n",
    "\n",
    "        train_ds = buildDataset(train_text,train_labels,\n",
    "                            batch_size=CFG.batch_size,shuffle=True,\n",
    "                            drop_remainder=True,repeat=True,vectorizer=vectorizer)\n",
    "        # Vectorized dataframe\n",
    "\n",
    "        train_np = vectorizeDataFrame(train_df[\"text\"],train_df[\"label\"],tokenizer=tokenizer)\n",
    "\n",
    "\n",
    "        # Create the validation dataset\n",
    "        \n",
    "        valid_df = df[df[\"fold\"]==fold].sample(frac=1)\n",
    "        valid_text = valid_df[\"text\"].to_list()\n",
    "        valid_labels = valid_df[\"label\"].to_list()\n",
    "\n",
    "        valid_ds = buildDataset(valid_text,valid_labels,\n",
    "                            batch_size=CFG.batch_size,shuffle=False,\n",
    "                            drop_remainder=True,repeat=False,vectorizer=vectorizer)\n",
    "        # Vectorized dataframe\n",
    "        valid_np = vectorizeDataFrame(valid_df[\"text\"],valid_df[\"label\"],tokenizer=tokenizer)\n",
    "\n",
    "        return (train_ds,train_df,train_np),(valid_ds,valid_df,valid_np),vectorizer\n",
    "    else: # Create test data set\n",
    "        if vectorizer is not None:\n",
    "            test_text = df[\"text\"].to_list()\n",
    "            # Vectorize the text based on training data\n",
    "    #         vectorizer = buildVectorizationLayer(test_text) # Create the vectorization layer\n",
    "            test_ds = buildDataset(test_text,None,\n",
    "                        batch_size=CFG.batch_size,shuffle=False,\n",
    "                        drop_remainder=False,repeat=False,vectorizer=vectorizer)\n",
    "            return test_ds"
   ]
  },
  {
   "cell_type": "code",
   "execution_count": 24,
   "id": "eb5c58bf",
   "metadata": {
    "execution": {
     "iopub.execute_input": "2023-12-19T04:33:16.312403Z",
     "iopub.status.busy": "2023-12-19T04:33:16.312021Z",
     "iopub.status.idle": "2023-12-19T04:33:16.322753Z",
     "shell.execute_reply": "2023-12-19T04:33:16.321825Z"
    },
    "papermill": {
     "duration": 0.028782,
     "end_time": "2023-12-19T04:33:16.324796",
     "exception": false,
     "start_time": "2023-12-19T04:33:16.296014",
     "status": "completed"
    },
    "tags": []
   },
   "outputs": [],
   "source": [
    "def getMlModels():\n",
    "    classifiers = {}\n",
    "    # xgb = XGBClassifier(learning_rate= CFG.ml_lr,n_estimators=300,\n",
    "    #                     objective= 'binary:logistic',seed=CFG.seed)\n",
    "    # classifiers[\"xgb\"] = xgb\n",
    "    lr = LogisticRegression(random_state=CFG.seed,verbose = 1)\n",
    "    classifiers[\"lr\"] = lr\n",
    "    rfc = RandomForestClassifier(verbose=2,random_state=CFG.seed,n_estimators=200)\n",
    "    classifiers[\"rfc\"] = rfc\n",
    "    # adgc = AdaBoostClassifier(learning_rate=CFG.ml_lr)\n",
    "    # classifiers[\"adgc\"] = adgc\n",
    "    # svc = SVC(verbose=True,random_state = CFG.seed)\n",
    "    # classifiers[\"svc\"] = svc\n",
    "    return classifiers\n",
    "\n",
    "def trainMlModels(classifiers,train_feat,train_label,valid_feat,valid_label):\n",
    "    for item in classifiers.items():\n",
    "        print(\"=\"*20)\n",
    "        print(f\"\\t Model :{item[0]}\")\n",
    "        classifier = item[1]\n",
    "        classifier.fit(train_feat,train_label.ravel())\n",
    "        predictions = classifier.predict(valid_feat)\n",
    "        auc = roc_auc_score(valid_label,predictions)\n",
    "        confusion = confusion_matrix(valid_label,predictions)\n",
    "        classification_rep = classification_report(valid_label,predictions)\n",
    "        print(f\"\\t AUC = {auc}\")\n",
    "        print(f\"\\t Confusin Matrix{item[0]}: \\n{confusion}\")\n",
    "        print(f\"\\t Classification Report {item[0]}: \\n{classification_rep}\")\n",
    "        print(\"=\"*20)\n",
    "\n",
    "def trainMlFolds():\n",
    "    if CFG.prediction_strategy == CFG.ml:\n",
    "        for fold in CFG.selected_folds:\n",
    "            print(f\">\"*30)\n",
    "            print(f\"Fold {fold}\")\n",
    "            (t_ds,t_df,t_np),(v_ds,v_df,v_np) = getDataset(fold)\n",
    "            train_feat = t_np[:,:-1]\n",
    "            train_label = t_np[:,-1:]\n",
    "            valid_feat = v_np[:,:-1]\n",
    "            valid_label = v_np[:,-1:]\n",
    "            classifiers = getMlModels()\n",
    "            trainMlModels(classifiers,train_feat,train_label,valid_feat,valid_label)\n",
    "            print(f\">\"*30)"
   ]
  },
  {
   "cell_type": "code",
   "execution_count": 25,
   "id": "9728331b",
   "metadata": {
    "execution": {
     "iopub.execute_input": "2023-12-19T04:33:16.356286Z",
     "iopub.status.busy": "2023-12-19T04:33:16.355428Z",
     "iopub.status.idle": "2023-12-19T04:33:16.365181Z",
     "shell.execute_reply": "2023-12-19T04:33:16.364209Z"
    },
    "papermill": {
     "duration": 0.027798,
     "end_time": "2023-12-19T04:33:16.367341",
     "exception": false,
     "start_time": "2023-12-19T04:33:16.339543",
     "status": "completed"
    },
    "tags": []
   },
   "outputs": [],
   "source": [
    "# def buildDLModel():\n",
    "#     model = Sequential()\n",
    "#     model.add(Embedding(input_dim=CFG.max_tokens,output_dim=CFG.embd_dim,input_shape=(CFG.max_sequence,)))\n",
    "#     model.add(LSTM(100,recurrent_dropout=0.2))\n",
    "#     # model.add(LSTM(50))\n",
    "#     model.add(Dense(1,activation=\"sigmoid\"))\n",
    "#     model.summary()\n",
    "#     model.compile(optimizer= Adam(),loss=binary_crossentropy,metrics=[AUC(name=\"auc\")])\n",
    "#     return model\n",
    "# def Dl0():\n",
    "#     model = Sequential()\n",
    "#     model.add(Embedding(input_dim=CFG.max_tokens,output_dim=CFG.embd_dim,input_shape=(CFG.max_sequence,)))\n",
    "#     model.add(LSTM(100,recurrent_dropout=0.2,return_sequences=True))\n",
    "#     model.add(LSTM(50))\n",
    "#     model.add(Dense(1,activation=\"sigmoid\"))\n",
    "#     model.summary()\n",
    "#     model.compile(optimizer= Adam(),loss=binary_crossentropy,metrics=[AUC(name=\"auc\")])\n",
    "#     return model\n",
    "# def DL1():\n",
    "#     model = Sequential()\n",
    "#     model.add(Embedding(input_dim=CFG.max_tokens,output_dim=CFG.embd_dim,input_shape=(CFG.max_sequence,)))\n",
    "#     model.add(LSTM(100,recurrent_dropout=0.2))\n",
    "#     model.add(BatchNormalization())\n",
    "#     model.add(Dense(1,activation=\"sigmoid\"))\n",
    "#     model.summary()\n",
    "#     model.compile(optimizer= Adam(),loss=binary_crossentropy,metrics=[AUC(name=\"auc\")])\n",
    "#     return model\n",
    "# def DL1_v2():\n",
    "#     model = Sequential()\n",
    "#     model.add(Embedding(input_dim=CFG.max_tokens,output_dim=250,input_shape=(CFG.max_sequence,)))\n",
    "#     model.add(LSTM(100,recurrent_dropout=0.2))\n",
    "#     model.add(BatchNormalization())\n",
    "#     model.add(Dense(1,activation=\"sigmoid\"))\n",
    "#     model.summary()\n",
    "#     model.compile(optimizer= Adam(),loss=binary_crossentropy,metrics=[AUC(name=\"auc\")])\n",
    "#     return model\n",
    "# def DL2():\n",
    "#     model = Sequential()\n",
    "#     model.add(Embedding(input_dim=CFG.max_tokens,output_dim=50,input_shape=(CFG.max_sequence,)))\n",
    "#     model.add(LSTM(50,recurrent_dropout=0.2))\n",
    "#     model.add(BatchNormalization())\n",
    "#     model.add(Dense(1,activation=\"sigmoid\"))\n",
    "#     model.summary()\n",
    "#     model.compile(optimizer= Adam(),loss=binary_crossentropy,metrics=[AUC(name=\"auc\")])\n",
    "#     return model\n",
    "\n",
    "def temporal_conv():\n",
    "    inp = Input(shape=(CFG.max_sequence,))\n",
    "    embed = Embedding(input_dim=CFG.max_tokens,output_dim=CFG.embd_dim,input_shape=(CFG.max_sequence,))(inp)\n",
    "    conv1d = Conv1D(filters=264,kernel_size =5,activation=\"relu\")(embed)\n",
    "    maxpool = MaxPool1D(pool_size =2,strides =2)(conv1d)\n",
    "    lstm = LSTM(128)(maxpool)\n",
    "#     lstm2 = LSTM(64)(lstm)    \n",
    "    flatten = Flatten()(lstm)\n",
    "    drop = Dropout(0.3)(flatten)\n",
    "    dense = Dense(10,activation=\"relu\")(drop)\n",
    "    out = Dense(1,activation=\"sigmoid\")(dense)\n",
    "    model = Model(inputs=inp,outputs=out)\n",
    "    model.summary()\n",
    "    model.compile(optimizer= Adam(),loss=binary_crossentropy,metrics=[AUC(name=\"auc\")])\n",
    "    return model\n",
    "    \n",
    "    "
   ]
  },
  {
   "cell_type": "code",
   "execution_count": 26,
   "id": "c4329d6b",
   "metadata": {
    "execution": {
     "iopub.execute_input": "2023-12-19T04:33:16.398285Z",
     "iopub.status.busy": "2023-12-19T04:33:16.397911Z",
     "iopub.status.idle": "2023-12-19T04:34:30.877402Z",
     "shell.execute_reply": "2023-12-19T04:34:30.876404Z"
    },
    "papermill": {
     "duration": 74.497724,
     "end_time": "2023-12-19T04:34:30.879896",
     "exception": false,
     "start_time": "2023-12-19T04:33:16.382172",
     "status": "completed"
    },
    "tags": []
   },
   "outputs": [],
   "source": [
    "(t_ds,t_df,t_np),(v_ds,v_df,v_np),vectorizer = getDataset(1,False,df)"
   ]
  },
  {
   "cell_type": "code",
   "execution_count": 27,
   "id": "8406dfef",
   "metadata": {
    "execution": {
     "iopub.execute_input": "2023-12-19T04:34:30.910295Z",
     "iopub.status.busy": "2023-12-19T04:34:30.909743Z",
     "iopub.status.idle": "2023-12-19T04:34:30.913905Z",
     "shell.execute_reply": "2023-12-19T04:34:30.913090Z"
    },
    "papermill": {
     "duration": 0.021084,
     "end_time": "2023-12-19T04:34:30.915873",
     "exception": false,
     "start_time": "2023-12-19T04:34:30.894789",
     "status": "completed"
    },
    "tags": []
   },
   "outputs": [],
   "source": [
    "scores = []"
   ]
  },
  {
   "cell_type": "code",
   "execution_count": 28,
   "id": "7a658c75",
   "metadata": {
    "execution": {
     "iopub.execute_input": "2023-12-19T04:34:30.945555Z",
     "iopub.status.busy": "2023-12-19T04:34:30.944738Z",
     "iopub.status.idle": "2023-12-19T04:37:09.736997Z",
     "shell.execute_reply": "2023-12-19T04:37:09.735915Z"
    },
    "papermill": {
     "duration": 158.810552,
     "end_time": "2023-12-19T04:37:09.740394",
     "exception": false,
     "start_time": "2023-12-19T04:34:30.929842",
     "status": "completed"
    },
    "tags": []
   },
   "outputs": [
    {
     "name": "stdout",
     "output_type": "stream",
     "text": [
      "Model: \"model\"\n",
      "_________________________________________________________________\n",
      " Layer (type)                Output Shape              Param #   \n",
      "=================================================================\n",
      " input_1 (InputLayer)        [(None, 250)]             0         \n",
      "                                                                 \n",
      " embedding (Embedding)       (None, 250, 150)          5250000   \n",
      "                                                                 \n",
      " conv1d (Conv1D)             (None, 246, 264)          198264    \n",
      "                                                                 \n",
      " max_pooling1d (MaxPooling1  (None, 123, 264)          0         \n",
      " D)                                                              \n",
      "                                                                 \n",
      " lstm (LSTM)                 (None, 128)               201216    \n",
      "                                                                 \n",
      " flatten (Flatten)           (None, 128)               0         \n",
      "                                                                 \n",
      " dropout (Dropout)           (None, 128)               0         \n",
      "                                                                 \n",
      " dense (Dense)               (None, 10)                1290      \n",
      "                                                                 \n",
      " dense_1 (Dense)             (None, 1)                 11        \n",
      "                                                                 \n",
      "=================================================================\n",
      "Total params: 5650781 (21.56 MB)\n",
      "Trainable params: 5650781 (21.56 MB)\n",
      "Non-trainable params: 0 (0.00 Byte)\n",
      "_________________________________________________________________\n",
      "Epoch 1/3\n",
      "1121/1121 [==============================] - 103s 83ms/step - loss: 0.1355 - auc: 0.9863 - val_loss: 0.0505 - val_auc: 0.9960\n",
      "Epoch 2/3\n",
      "1121/1121 [==============================] - 31s 28ms/step - loss: 0.0295 - auc: 0.9979 - val_loss: 0.0500 - val_auc: 0.9975\n",
      "Epoch 3/3\n",
      "1121/1121 [==============================] - 24s 21ms/step - loss: 0.0193 - auc: 0.9989 - val_loss: 0.0325 - val_auc: 0.9985\n"
     ]
    }
   ],
   "source": [
    "with CFG.strategy.scope():\n",
    "    if CFG.prediction_strategy == CFG.dl:\n",
    "#         model = DL1()\n",
    "#         model = DL1_v2()\n",
    "        # model = buildDLModel()\n",
    "#         model = DL2()\n",
    "#         model = Dl0()\n",
    "        model = temporal_conv()\n",
    "\n",
    "\n",
    "        model.fit(t_ds,epochs=CFG.epochs,validation_data=v_ds,\n",
    "                steps_per_epoch= (len(t_df) // CFG.batch_size),\n",
    "                validation_steps=(len(v_df) // CFG.batch_size ))"
   ]
  },
  {
   "cell_type": "code",
   "execution_count": 29,
   "id": "ecdc975a",
   "metadata": {
    "execution": {
     "iopub.execute_input": "2023-12-19T04:37:09.958113Z",
     "iopub.status.busy": "2023-12-19T04:37:09.957722Z",
     "iopub.status.idle": "2023-12-19T04:37:10.059297Z",
     "shell.execute_reply": "2023-12-19T04:37:10.058411Z"
    },
    "papermill": {
     "duration": 0.207283,
     "end_time": "2023-12-19T04:37:10.061615",
     "exception": false,
     "start_time": "2023-12-19T04:37:09.854332",
     "status": "completed"
    },
    "tags": []
   },
   "outputs": [],
   "source": [
    "test_ds  = getDataset(None,True,test_df,vectorizer)"
   ]
  },
  {
   "cell_type": "code",
   "execution_count": 30,
   "id": "29b0c3e3",
   "metadata": {
    "execution": {
     "iopub.execute_input": "2023-12-19T04:37:10.267223Z",
     "iopub.status.busy": "2023-12-19T04:37:10.266813Z",
     "iopub.status.idle": "2023-12-19T04:37:10.272037Z",
     "shell.execute_reply": "2023-12-19T04:37:10.270951Z"
    },
    "papermill": {
     "duration": 0.109989,
     "end_time": "2023-12-19T04:37:10.274044",
     "exception": false,
     "start_time": "2023-12-19T04:37:10.164055",
     "status": "completed"
    },
    "tags": []
   },
   "outputs": [],
   "source": [
    "def getPredictions(ds):\n",
    "    predictions = model.predict(ds,batch_size= min(CFG.batch_size,len(test_df)),)\n",
    "    return predictions.squeeze()"
   ]
  },
  {
   "cell_type": "code",
   "execution_count": 31,
   "id": "5ebec502",
   "metadata": {
    "execution": {
     "iopub.execute_input": "2023-12-19T04:37:10.479746Z",
     "iopub.status.busy": "2023-12-19T04:37:10.478904Z",
     "iopub.status.idle": "2023-12-19T04:37:11.264865Z",
     "shell.execute_reply": "2023-12-19T04:37:11.263861Z"
    },
    "papermill": {
     "duration": 0.890829,
     "end_time": "2023-12-19T04:37:11.267014",
     "exception": false,
     "start_time": "2023-12-19T04:37:10.376185",
     "status": "completed"
    },
    "tags": []
   },
   "outputs": [
    {
     "name": "stdout",
     "output_type": "stream",
     "text": [
      "1/1 [==============================] - 1s 752ms/step\n"
     ]
    }
   ],
   "source": [
    "model_predictions = getPredictions(test_ds)\n",
    "\n"
   ]
  },
  {
   "cell_type": "code",
   "execution_count": 32,
   "id": "4259c163",
   "metadata": {
    "execution": {
     "iopub.execute_input": "2023-12-19T04:37:11.469220Z",
     "iopub.status.busy": "2023-12-19T04:37:11.468380Z",
     "iopub.status.idle": "2023-12-19T04:37:11.472861Z",
     "shell.execute_reply": "2023-12-19T04:37:11.472059Z"
    },
    "papermill": {
     "duration": 0.107443,
     "end_time": "2023-12-19T04:37:11.474678",
     "exception": false,
     "start_time": "2023-12-19T04:37:11.367235",
     "status": "completed"
    },
    "tags": []
   },
   "outputs": [],
   "source": [
    "# def saveWeights(weight_name):\n",
    "#     weights_path = Path(\"/kaggle/working/weights\")\n",
    "#     weights_path = weights_path / weight_name\n",
    "#     test_dl_2.save_weights(weights_path)"
   ]
  },
  {
   "cell_type": "code",
   "execution_count": 33,
   "id": "4987af54",
   "metadata": {
    "execution": {
     "iopub.execute_input": "2023-12-19T04:37:11.679512Z",
     "iopub.status.busy": "2023-12-19T04:37:11.678832Z",
     "iopub.status.idle": "2023-12-19T04:37:11.709696Z",
     "shell.execute_reply": "2023-12-19T04:37:11.708567Z"
    },
    "papermill": {
     "duration": 0.142438,
     "end_time": "2023-12-19T04:37:11.718080",
     "exception": false,
     "start_time": "2023-12-19T04:37:11.575642",
     "status": "completed"
    },
    "tags": []
   },
   "outputs": [
    {
     "name": "stdout",
     "output_type": "stream",
     "text": [
      "Model: \"model\"\n",
      "_________________________________________________________________\n",
      " Layer (type)                Output Shape              Param #   \n",
      "=================================================================\n",
      " input_1 (InputLayer)        [(None, 250)]             0         \n",
      "                                                                 \n",
      " embedding (Embedding)       (None, 250, 150)          5250000   \n",
      "                                                                 \n",
      " conv1d (Conv1D)             (None, 246, 264)          198264    \n",
      "                                                                 \n",
      " max_pooling1d (MaxPooling1  (None, 123, 264)          0         \n",
      " D)                                                              \n",
      "                                                                 \n",
      " lstm (LSTM)                 (None, 128)               201216    \n",
      "                                                                 \n",
      " flatten (Flatten)           (None, 128)               0         \n",
      "                                                                 \n",
      " dropout (Dropout)           (None, 128)               0         \n",
      "                                                                 \n",
      " dense (Dense)               (None, 10)                1290      \n",
      "                                                                 \n",
      " dense_1 (Dense)             (None, 1)                 11        \n",
      "                                                                 \n",
      "=================================================================\n",
      "Total params: 5650781 (21.56 MB)\n",
      "Trainable params: 5650781 (21.56 MB)\n",
      "Non-trainable params: 0 (0.00 Byte)\n",
      "_________________________________________________________________\n"
     ]
    },
    {
     "data": {
      "text/plain": [
       "('temporal_conv15_lstm', None)"
      ]
     },
     "execution_count": 33,
     "metadata": {},
     "output_type": "execute_result"
    }
   ],
   "source": [
    "name = \"temporal_conv15_lstm\"\n",
    "config = model.summary()\n",
    "name,config"
   ]
  },
  {
   "cell_type": "code",
   "execution_count": 34,
   "id": "840d2a10",
   "metadata": {
    "execution": {
     "iopub.execute_input": "2023-12-19T04:37:11.922864Z",
     "iopub.status.busy": "2023-12-19T04:37:11.922522Z",
     "iopub.status.idle": "2023-12-19T04:37:11.926654Z",
     "shell.execute_reply": "2023-12-19T04:37:11.925795Z"
    },
    "papermill": {
     "duration": 0.108649,
     "end_time": "2023-12-19T04:37:11.928720",
     "exception": false,
     "start_time": "2023-12-19T04:37:11.820071",
     "status": "completed"
    },
    "tags": []
   },
   "outputs": [],
   "source": [
    "# def getRocScore():\n",
    "#     roc_score1 = roc_auc_score(test_df[[\"label\"]].to_numpy().squeeze(),model_predictions.flatten())\n",
    "#     print(roc_score1)\n",
    "#     score = {\"name\":name,\"config\":config,\"score\":roc_score1}\n",
    "#     scores.append(score)"
   ]
  },
  {
   "cell_type": "code",
   "execution_count": 35,
   "id": "07e2757b",
   "metadata": {
    "execution": {
     "iopub.execute_input": "2023-12-19T04:37:12.136540Z",
     "iopub.status.busy": "2023-12-19T04:37:12.135849Z",
     "iopub.status.idle": "2023-12-19T04:37:12.139998Z",
     "shell.execute_reply": "2023-12-19T04:37:12.139141Z"
    },
    "papermill": {
     "duration": 0.111556,
     "end_time": "2023-12-19T04:37:12.141991",
     "exception": false,
     "start_time": "2023-12-19T04:37:12.030435",
     "status": "completed"
    },
    "tags": []
   },
   "outputs": [],
   "source": [
    "# test_df.info()"
   ]
  },
  {
   "cell_type": "code",
   "execution_count": 36,
   "id": "6059f38d",
   "metadata": {
    "execution": {
     "iopub.execute_input": "2023-12-19T04:37:12.348513Z",
     "iopub.status.busy": "2023-12-19T04:37:12.347851Z",
     "iopub.status.idle": "2023-12-19T04:37:12.352044Z",
     "shell.execute_reply": "2023-12-19T04:37:12.351056Z"
    },
    "papermill": {
     "duration": 0.10951,
     "end_time": "2023-12-19T04:37:12.353967",
     "exception": false,
     "start_time": "2023-12-19T04:37:12.244457",
     "status": "completed"
    },
    "tags": []
   },
   "outputs": [],
   "source": [
    "# getRocScore()"
   ]
  },
  {
   "cell_type": "code",
   "execution_count": 37,
   "id": "5af67c77",
   "metadata": {
    "execution": {
     "iopub.execute_input": "2023-12-19T04:37:12.562782Z",
     "iopub.status.busy": "2023-12-19T04:37:12.561837Z",
     "iopub.status.idle": "2023-12-19T04:37:12.566175Z",
     "shell.execute_reply": "2023-12-19T04:37:12.565253Z"
    },
    "papermill": {
     "duration": 0.111888,
     "end_time": "2023-12-19T04:37:12.568150",
     "exception": false,
     "start_time": "2023-12-19T04:37:12.456262",
     "status": "completed"
    },
    "tags": []
   },
   "outputs": [],
   "source": [
    "# saveWeights(\"em150Lstm100Lstm50bd1\")"
   ]
  },
  {
   "cell_type": "code",
   "execution_count": 38,
   "id": "2642a71f",
   "metadata": {
    "execution": {
     "iopub.execute_input": "2023-12-19T04:37:12.780891Z",
     "iopub.status.busy": "2023-12-19T04:37:12.780223Z",
     "iopub.status.idle": "2023-12-19T04:37:13.040411Z",
     "shell.execute_reply": "2023-12-19T04:37:13.039514Z"
    },
    "papermill": {
     "duration": 0.3652,
     "end_time": "2023-12-19T04:37:13.042500",
     "exception": false,
     "start_time": "2023-12-19T04:37:12.677300",
     "status": "completed"
    },
    "tags": []
   },
   "outputs": [
    {
     "name": "stdout",
     "output_type": "stream",
     "text": [
      "1/1 [==============================] - 0s 227ms/step\n"
     ]
    }
   ],
   "source": [
    "submissions = test_df[[\"id\"]].copy()\n",
    "submissions[\"generated\"] = getPredictions(test_ds)\n",
    "submissions.to_csv(\"submission.csv\",index=False)"
   ]
  },
  {
   "cell_type": "code",
   "execution_count": 39,
   "id": "0de050c5",
   "metadata": {
    "execution": {
     "iopub.execute_input": "2023-12-19T04:37:13.250232Z",
     "iopub.status.busy": "2023-12-19T04:37:13.249847Z",
     "iopub.status.idle": "2023-12-19T04:37:13.259368Z",
     "shell.execute_reply": "2023-12-19T04:37:13.258512Z"
    },
    "papermill": {
     "duration": 0.114231,
     "end_time": "2023-12-19T04:37:13.261379",
     "exception": false,
     "start_time": "2023-12-19T04:37:13.147148",
     "status": "completed"
    },
    "tags": []
   },
   "outputs": [
    {
     "data": {
      "text/html": [
       "<div>\n",
       "<style scoped>\n",
       "    .dataframe tbody tr th:only-of-type {\n",
       "        vertical-align: middle;\n",
       "    }\n",
       "\n",
       "    .dataframe tbody tr th {\n",
       "        vertical-align: top;\n",
       "    }\n",
       "\n",
       "    .dataframe thead th {\n",
       "        text-align: right;\n",
       "    }\n",
       "</style>\n",
       "<table border=\"1\" class=\"dataframe\">\n",
       "  <thead>\n",
       "    <tr style=\"text-align: right;\">\n",
       "      <th></th>\n",
       "      <th>id</th>\n",
       "      <th>generated</th>\n",
       "    </tr>\n",
       "  </thead>\n",
       "  <tbody>\n",
       "    <tr>\n",
       "      <th>0</th>\n",
       "      <td>0000aaaa</td>\n",
       "      <td>0.783344</td>\n",
       "    </tr>\n",
       "    <tr>\n",
       "      <th>1</th>\n",
       "      <td>1111bbbb</td>\n",
       "      <td>0.785571</td>\n",
       "    </tr>\n",
       "    <tr>\n",
       "      <th>2</th>\n",
       "      <td>2222cccc</td>\n",
       "      <td>0.785571</td>\n",
       "    </tr>\n",
       "  </tbody>\n",
       "</table>\n",
       "</div>"
      ],
      "text/plain": [
       "         id  generated\n",
       "0  0000aaaa   0.783344\n",
       "1  1111bbbb   0.785571\n",
       "2  2222cccc   0.785571"
      ]
     },
     "execution_count": 39,
     "metadata": {},
     "output_type": "execute_result"
    }
   ],
   "source": [
    "submissions.head(3)"
   ]
  },
  {
   "cell_type": "code",
   "execution_count": null,
   "id": "28b9583f",
   "metadata": {
    "papermill": {
     "duration": 0.102361,
     "end_time": "2023-12-19T04:37:13.465436",
     "exception": false,
     "start_time": "2023-12-19T04:37:13.363075",
     "status": "completed"
    },
    "tags": []
   },
   "outputs": [],
   "source": []
  }
 ],
 "metadata": {
  "kaggle": {
   "accelerator": "gpu",
   "dataSources": [
    {
     "databundleVersionId": 6888007,
     "sourceId": 61542,
     "sourceType": "competition"
    },
    {
     "datasetId": 3942644,
     "sourceId": 6890527,
     "sourceType": "datasetVersion"
    },
    {
     "datasetId": 4005256,
     "sourceId": 6977472,
     "sourceType": "datasetVersion"
    }
   ],
   "dockerImageVersionId": 30615,
   "isGpuEnabled": true,
   "isInternetEnabled": false,
   "language": "python",
   "sourceType": "notebook"
  },
  "kernelspec": {
   "display_name": "Python 3",
   "language": "python",
   "name": "python3"
  },
  "language_info": {
   "codemirror_mode": {
    "name": "ipython",
    "version": 3
   },
   "file_extension": ".py",
   "mimetype": "text/x-python",
   "name": "python",
   "nbconvert_exporter": "python",
   "pygments_lexer": "ipython3",
   "version": "3.10.12"
  },
  "papermill": {
   "default_parameters": {},
   "duration": 283.76666,
   "end_time": "2023-12-19T04:37:16.567439",
   "environment_variables": {},
   "exception": null,
   "input_path": "__notebook__.ipynb",
   "output_path": "__notebook__.ipynb",
   "parameters": {},
   "start_time": "2023-12-19T04:32:32.800779",
   "version": "2.4.0"
  }
 },
 "nbformat": 4,
 "nbformat_minor": 5
}
